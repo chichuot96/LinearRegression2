{
  "nbformat": 4,
  "nbformat_minor": 0,
  "metadata": {
    "colab": {
      "name": "LinearRegression.ipynb",
      "version": "0.3.2",
      "provenance": [],
      "private_outputs": true,
      "collapsed_sections": [],
      "machine_shape": "hm",
      "include_colab_link": true
    },
    "kernelspec": {
      "name": "python3",
      "display_name": "Python 3"
    }
  },
  "cells": [
    {
      "cell_type": "markdown",
      "metadata": {
        "id": "view-in-github",
        "colab_type": "text"
      },
      "source": [
        "<a href=\"https://colab.research.google.com/github/chichuot96/LinearRegression2/blob/master/LinearRegression.ipynb\" target=\"_parent\"><img src=\"https://colab.research.google.com/assets/colab-badge.svg\" alt=\"Open In Colab\"/></a>"
      ]
    },
    {
      "cell_type": "code",
      "metadata": {
        "id": "Y22l5R2kaiDc",
        "colab_type": "code",
        "colab": {}
      },
      "source": [
        "import numpy as np\n",
        "import matplotlib.pyplot as plt\n",
        "from mpl_toolkits.mplot3d import Axes3D\n",
        "import pandas as pd\n",
        "from pandas import DataFrame, read_csv\n",
        "import matplotlib.pyplot as plt\n",
        "from sklearn import linear_model\n",
        "from mpl_toolkits import mplot3d\n",
        "\n",
        "\n",
        "\n",
        "# Code to read csv file into Colaboratory:\n",
        "!pip install -U -q PyDrive\n",
        "from pydrive.auth import GoogleAuth\n",
        "from pydrive.drive import GoogleDrive\n",
        "from google.colab import auth\n",
        "from oauth2client.client import GoogleCredentials\n",
        "\n",
        "# Authenticate and create the PyDrive client.\n",
        "auth.authenticate_user()\n",
        "gauth = GoogleAuth()\n",
        "gauth.credentials = GoogleCredentials.get_application_default()\n",
        "drive = GoogleDrive(gauth)\n",
        "link = 'https://drive.google.com/open?id=1r2Vr4vTDee4ZIaC26o9OAhAykopTOjK_'\n",
        "fluff, id = link.split('=')\n",
        "downloaded = drive.CreateFile({'id':id}) \n",
        "downloaded.GetContentFile('bottle.csv')\n",
        "\n",
        "\n"
      ],
      "execution_count": 0,
      "outputs": []
    },
    {
      "cell_type": "code",
      "metadata": {
        "id": "XQUSC9t5dzSF",
        "colab_type": "code",
        "colab": {}
      },
      "source": [
        "#read the csv file\n",
        "bottle = read_csv(\"bottle.csv\", encoding='utf-8', usecols=[\"Depthm\",\"Salnty\",\"T_degC\"])\n",
        "bottle.fillna(method= 'ffill', inplace=True)\n",
        "bottle.dropna(inplace=True)\n",
        "# bottle=bottle[:][1000:3000]\n",
        "parameters = ['T_degC', 'Depthm']\n",
        "objective = 'Salnty'\n",
        "\n",
        "X=bottle[parameters]\n",
        "Y=bottle[objective]\n"
      ],
      "execution_count": 0,
      "outputs": []
    },
    {
      "cell_type": "code",
      "metadata": {
        "id": "tZeOMKKyd6Ja",
        "colab_type": "code",
        "colab": {}
      },
      "source": [
        "# with sklearn\n",
        "regr = linear_model.LinearRegression()\n",
        "regr.fit(X, Y)\n",
        "\n",
        "print('Intercept: \\n', regr.intercept_)\n",
        "print('Coefficients: \\n', regr.coef_)\n",
        "print('Score: \\n' , regr.score(X,Y))\n"
      ],
      "execution_count": 0,
      "outputs": []
    },
    {
      "cell_type": "code",
      "metadata": {
        "id": "NnOCsn2Gd9bJ",
        "colab_type": "code",
        "colab": {}
      },
      "source": [
        "# prediction with sklearn\n",
        "x0 = np.linspace(1,32)\n",
        "y0 = np.linspace(0,5400)\n",
        "\n",
        "def z_function(x, y):\n",
        "    return regr.coef_[0]*x+regr.coef_[1]*y + regr.intercept_\n",
        "\n",
        "\n",
        "x, y = np.meshgrid(x0, y0)\n",
        "z = z_function(x, y)\n",
        "\n",
        "fig = plt.figure()\n",
        "ax = fig.add_subplot(111, projection='3d')\n",
        "# ax = plt.axes(projection=\"3d\")\n",
        "\n",
        "ax.scatter3D(X[parameters[0]],X[parameters[1]],Y,c='blue',alpha=0.7)\n",
        "ax.plot_surface(x, y, z, color='none',alpha=0.4)\n",
        "ax.set_xlabel('T_degC')\n",
        "ax.set_ylabel('Depthm')\n",
        "ax.set_zlabel('Salnty')\n",
        "\n",
        "\n"
      ],
      "execution_count": 0,
      "outputs": []
    }
  ]
}